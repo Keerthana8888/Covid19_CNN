{
  "nbformat": 4,
  "nbformat_minor": 0,
  "metadata": {
    "colab": {
      "private_outputs": true,
      "provenance": [],
      "gpuType": "T4",
      "authorship_tag": "ABX9TyOW8DpGwQUXmn8XXG7+cXXS",
      "include_colab_link": true
    },
    "kernelspec": {
      "name": "python3",
      "display_name": "Python 3"
    },
    "language_info": {
      "name": "python"
    },
    "accelerator": "GPU"
  },
  "cells": [
    {
      "cell_type": "markdown",
      "metadata": {
        "id": "view-in-github",
        "colab_type": "text"
      },
      "source": [
        "<a href=\"https://colab.research.google.com/github/Keerthana8888/Covid19_CNN/blob/main/Code%20File/Covid19_CNN.ipynb\" target=\"_parent\"><img src=\"https://colab.research.google.com/assets/colab-badge.svg\" alt=\"Open In Colab\"/></a>"
      ]
    },
    {
      "cell_type": "markdown",
      "source": [
        "# Approach To The Problem"
      ],
      "metadata": {
        "id": "Ipfy6Xw0Xlal"
      }
    },
    {
      "cell_type": "markdown",
      "source": [
        "1. Load the Images and Libaries\n",
        "2. Vizulaize the Images\n",
        "3. Declare a sequential model\n",
        "4. Declare Layers\n",
        "  * Convolutions ( Filters , Stride , Shape)\n",
        "  * Pooling (Max/Avg , Stride , Shape)\n",
        "  * Flatten\n",
        "  * Dense Layer ( Number of neurons , Activation)\n",
        "  * Output Layer (Activation , Output Size)\n",
        "5. Compile the Model ( Optimizer , Loss , Metrics)\n",
        "6. Fit the model (Dataset , Epochs , Batch Size)\n",
        "7. Model Evaluation"
      ],
      "metadata": {
        "id": "l5_mByllXjBA"
      }
    },
    {
      "cell_type": "markdown",
      "source": [
        "#Load The Dataset And Libraries"
      ],
      "metadata": {
        "id": "TaPXTYRNXwgu"
      }
    },
    {
      "cell_type": "code",
      "execution_count": null,
      "metadata": {
        "id": "6p2c_SfuJ9Jz"
      },
      "outputs": [],
      "source": [
        "!unzip'/content/Covid 19 Image Dataset.zip'"
      ]
    },
    {
      "cell_type": "code",
      "source": [
        "import numpy as np\n",
        "import pandas as pd\n",
        "import matplotlib.pyplot as plt\n",
        "import os\n",
        "import tensorflow as tf\n",
        "from sklearn.metrics import accuracy_score,confusion_matrix,classification_report\n",
        "from tensorflow.keras.preprocessing import image_dataset_from_directory\n",
        "from tensorflow.keras.models import Sequential\n",
        "from tensorflow.keras.layers import Conv2D, MaxPooling2D, Flatten, Dense, Dropout"
      ],
      "metadata": {
        "id": "APyJeUIUW-lT"
      },
      "execution_count": null,
      "outputs": []
    },
    {
      "cell_type": "code",
      "source": [
        "train_dir = \"/content/covid19-image-dataset/Covid19-dataset/train\"\n",
        "val_dir = \"/content/covid19-image-dataset/Covid19-dataset/test\""
      ],
      "metadata": {
        "id": "NY7-88LJXDmg"
      },
      "execution_count": null,
      "outputs": []
    },
    {
      "cell_type": "markdown",
      "source": [
        "# Load The Images"
      ],
      "metadata": {
        "id": "w4CSQE6DX96J"
      }
    },
    {
      "cell_type": "code",
      "source": [
        "train_data = image_dataset_from_directory(train_dir , image_size = (160,160) ,\n",
        "                                             class_names = ['Covid', 'Normal', 'Viral Pneumonia'], batch_size =64 , seed = 123)\n",
        "val_data = image_dataset_from_directory(val_dir , image_size = (160,160) ,\n",
        "                                           class_names = ['Covid', 'Normal', 'Viral Pneumonia'], batch_size = 64 , seed = 123)"
      ],
      "metadata": {
        "id": "GZqGcIbZXcVu"
      },
      "execution_count": null,
      "outputs": []
    },
    {
      "cell_type": "code",
      "source": [
        "train_dataset.class_names"
      ],
      "metadata": {
        "id": "35Uh9-RWYFEz"
      },
      "execution_count": null,
      "outputs": []
    },
    {
      "cell_type": "markdown",
      "source": [
        "#Visualization Of Images"
      ],
      "metadata": {
        "id": "YyjJN2iUYTUY"
      }
    },
    {
      "cell_type": "code",
      "source": [
        "clas_names = train_dataset.class_names\n",
        "\n",
        "plt.figure(figsize = (10,10))\n",
        "for images , labels in train_dataset.take(1):\n",
        "  for i in range(9):\n",
        "    ax = plt.subplot(3,3,i+1)\n",
        "    plt.imshow(images[i].numpy().astype('uint8'))\n",
        "    plt.title(clas_names[labels[i]])"
      ],
      "metadata": {
        "id": "4DWDcFPDYRbW"
      },
      "execution_count": null,
      "outputs": []
    },
    {
      "cell_type": "markdown",
      "source": [
        "# Declare A Sequential Model"
      ],
      "metadata": {
        "id": "EdmJZnk5YcbT"
      }
    },
    {
      "cell_type": "code",
      "source": [
        "model = Sequential()\n",
        "\n",
        "### Feature Extraction Layer ###\n",
        "## Block 1 ##\n",
        "model.add(Conv2D(128 , (3,3) , padding = 'same' , activation = 'relu' , input_shape = (160,160,3)))\n",
        "model.add(MaxPooling2D(pool_size = (2,2) , strides = (2,2)))\n",
        "\n",
        "## Block 2 ##\n",
        "model.add(Conv2D(512 , (3,3) , padding = 'same' , activation = 'relu'))\n",
        "model.add(MaxPooling2D(pool_size = (2,2) , strides = (2,2)))\n",
        "\n",
        "## Block 3 ##\n",
        "model.add(Conv2D(1024 , (3,3) , padding = 'same' , activation = 'relu'))\n",
        "model.add(MaxPooling2D(pool_size = (2,2) , strides = (2,2)))\n",
        "\n",
        "### Classification Layer ###\n",
        "model.add(Flatten())\n",
        "model.add(Dense(128 , activation = 'relu'))\n",
        "model.add(Dropout(0.5))\n",
        "model.add(Dense(3 , activation = 'softmax'))"
      ],
      "metadata": {
        "id": "pKvBI7M2YZ2W"
      },
      "execution_count": null,
      "outputs": []
    },
    {
      "cell_type": "code",
      "source": [
        "model.summary()"
      ],
      "metadata": {
        "id": "UQsozz6vYlmo"
      },
      "execution_count": null,
      "outputs": []
    },
    {
      "cell_type": "markdown",
      "source": [
        "#Compile The Model"
      ],
      "metadata": {
        "id": "lrQQG7IYYtvQ"
      }
    },
    {
      "cell_type": "code",
      "source": [
        "model.compile(optimizer = 'adam' , loss = 'sparse_classification_crossentropy' , metrics = ['accuracy'])"
      ],
      "metadata": {
        "id": "fkngJO2MYrBF"
      },
      "execution_count": null,
      "outputs": []
    },
    {
      "cell_type": "markdown",
      "source": [
        "#Fit The Model"
      ],
      "metadata": {
        "id": "cYRjY5mXY2VD"
      }
    },
    {
      "cell_type": "code",
      "source": [
        "hist = model.fit(train_dataset , epochs = 50 , validation_data = val_dataset , batch_size = 32)"
      ],
      "metadata": {
        "id": "V5RoshqwY0yF"
      },
      "execution_count": null,
      "outputs": []
    },
    {
      "cell_type": "markdown",
      "source": [
        "#Model Evaluation"
      ],
      "metadata": {
        "id": "-ilh6AKEY8_j"
      }
    },
    {
      "cell_type": "code",
      "source": [
        "plt.plot(hist.history['accuracy'])\n",
        "plt.plot(hist.history['val_accuracy'])\n",
        "plt.title('Model Accuracy')\n",
        "plt.ylabel('Accuracy')\n",
        "plt.xlabel('Epoch')\n",
        "plt.legend(['Train' , 'Validation'] , loc = 'upper left')\n",
        "plt.show()"
      ],
      "metadata": {
        "id": "KS4AwbFwY7i3"
      },
      "execution_count": null,
      "outputs": []
    },
    {
      "cell_type": "code",
      "source": [
        "plt.plot(hist.history['loss'])\n",
        "plt.plot(hist.history['val_loss'])\n",
        "plt.title('Model Loss')\n",
        "plt.ylabel('Loss')\n",
        "plt.xlabel('Epoch')\n",
        "plt.legend(['Train' , 'Validation'] , loc = 'upper left')\n",
        "plt.show()"
      ],
      "metadata": {
        "id": "Vpn156FlZCa1"
      },
      "execution_count": null,
      "outputs": []
    },
    {
      "cell_type": "markdown",
      "source": [
        "#Plotting Confusion Matrix"
      ],
      "metadata": {
        "id": "9BMjgVeEZGCF"
      }
    },
    {
      "cell_type": "code",
      "source": [
        "y_hat_train = model.predict(train_dataset)\n",
        "y_hat_test = model.predict(val_dataset)"
      ],
      "metadata": {
        "id": "k4R_BvGUZEfj"
      },
      "execution_count": null,
      "outputs": []
    },
    {
      "cell_type": "code",
      "source": [
        "y_true_train = np.array([label.numpy() for _, labels in train_dataset for label in labels])"
      ],
      "metadata": {
        "id": "8iQbqrqCZQAz"
      },
      "execution_count": null,
      "outputs": []
    },
    {
      "cell_type": "code",
      "source": [
        "y_true_val = np.array([label.numpy() for _, labels in val_dataset for label in labels])"
      ],
      "metadata": {
        "id": "Ek6-xVvfZSS8"
      },
      "execution_count": null,
      "outputs": []
    },
    {
      "cell_type": "code",
      "source": [
        "def model_eval(actual , predicted):\n",
        "  conf_matrix = confusion_matrix(actual , predicted)\n",
        "  clas_rep = classification_report(actual , predicted)\n",
        "  acc_score = accuracy_score(actual , predicted)\n",
        "\n",
        "  print(\"The Accuracy of the Model is:\" , round(acc_score , 2))\n",
        "  print(conf_matrix)\n",
        "  print(clas_rep)"
      ],
      "metadata": {
        "id": "picg2_4OZUqE"
      },
      "execution_count": null,
      "outputs": []
    },
    {
      "cell_type": "code",
      "source": [
        "model_eval(y_true_train,y_hat_train.round())"
      ],
      "metadata": {
        "id": "eKnRT2DxZWr0"
      },
      "execution_count": null,
      "outputs": []
    },
    {
      "cell_type": "code",
      "source": [
        "model_eval(y_true_val,y_hat_test.round())"
      ],
      "metadata": {
        "id": "f_jsneyqZY4c"
      },
      "execution_count": null,
      "outputs": []
    }
  ]
}